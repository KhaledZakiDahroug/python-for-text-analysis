{
 "cells": [
  {
   "cell_type": "markdown",
   "metadata": {},
   "source": [
    "# Assignment 4: Data structures\n",
    "\n",
    "**Deadline for Assignment 4a+b: Tuesday, October 8, 2019 (20.00).** \n",
    "\n",
    "Please submit the assignment using this [this google form](https://forms.gle/qbBWiDh55oMozBJQ9) and follow these guidelines:\n",
    "\n",
    "* Please name your notebook with the following naming convention: \n",
    "  ASSIGNMENT_4a_FIRSTNAME_LASTNAME.ipynb \n",
    "* Please submit your complete assignment (4a + 4b) by compressing all your material (notebook for 4a + python files for 4.b + additional files stored in a foder) into **a single .zip file** following this naming convention: ASSIGNMENT_4_FIRSTNAME_LASTNAME.zip.  \n",
    "\n",
    "In case you are not sure about creating a zip file from a folder, please refer to [this guide](https://fossbytes.com/how-to-zip-file-in-windows-mac/) (or any other guide you find online).\n",
    "\n",
    "\n",
    "If you have **questions** about this assignment, please contact **Pia (pia.sommerauer@vu.nl)**. Questions and answers will be collected in [this Q&A document](https://docs.google.com/document/d/1ebXRAEzkcBwowpcYf-6n_FM3UdwpZCXOvhH8Kd0bAfU/edit?usp=sharing), so please check it before you email. \n",
    "\n",
    "# Assignment 4a: Reading and writing CSV/TSV and JSON data\n",
    "In this block, we covered the following chapters about data formats:\n",
    "\n",
    "- Chapter 16 - Data Formats I (CSV/TSV)\n",
    "- Chapter 17 - Data Formats II (JSON)\n",
    "- Chapter 18 - Data Formats III (XML)\n",
    "\n",
    "In Assignment 4a, you will be asked to read and write CSV/TSV and JSON data. In Assignment 4.b, we will focus on xml data and working with multiple files and a more complex directory structure. "
   ]
  },
  {
   "cell_type": "markdown",
   "metadata": {},
   "source": [
    "## Exercise 1: Trump's Facebook Status Updates (CSV/TSV)\n",
    "\n",
    "In the folder `../Data/csv_data` there is a TSV file called `trump_facebook.tsv` that contains Facebook status updates posted by Donald Trump. It was downloaded from [here](https://www.reddit.com/r/datasets/comments/581hqm/all_of_donald_trumps_facebook_statuses_reaction). Follow the instructions below to read the file and find specific status updates.\n"
   ]
  },
  {
   "cell_type": "markdown",
   "metadata": {},
   "source": [
    "### 1a. Write your own function for reading CSV\n",
    "Write a function called `read_csv()` that takes two input arguments: **`input_file`** (mandatory positional argument) and **`delimiter`** (keyword argument with default string `\",\"`). The function should read the file and return `status_updates` which contains the content of the file as a 'list of dicts'. When tested on `../Data/Trump-Facebook/FacebookStatuses.tsv` the first two status updates should thus be represented as follows:\n",
    "\n",
    "```\n",
    "[{'link_name': 'Timeline Photos',\n",
    "  'num_angrys': '7',\n",
    "  'num_comments': '543',\n",
    "  'num_hahas': '17',\n",
    "  'num_likes': '6178',\n",
    "  'num_loves': '572',\n",
    "  'num_reactions': '6813',\n",
    "  'num_sads': '0',\n",
    "  'num_shares': '359',\n",
    "  'num_wows': '39',\n",
    "  'status_id': '153080620724_10157915294545725',\n",
    "  'status_link': 'https://www.facebook.com/DonaldTrump/photos/a.488852220724.393301.153080620724/10157915294545725/?type=3',\n",
    "  'status_message': 'Beautiful evening in Wisconsin- THANK YOU for your incredible support tonight! Everyone get out on November 8th - and VOTE! LETS MAKE AMERICA GREAT AGAIN! -DJT',\n",
    "  'status_published': '10/17/2016 20:56:51',\n",
    "  'status_type': 'photo'},\n",
    " {'link_name': '',\n",
    "  'num_angrys': '5211',\n",
    "  'num_comments': '3644',\n",
    "  'num_hahas': '75',\n",
    "  'num_likes': '26649',\n",
    "  'num_loves': '487',\n",
    "  'num_reactions': '33768',\n",
    "  'num_sads': '191',\n",
    "  'num_shares': '17653',\n",
    "  'num_wows': '1155',\n",
    "  'status_id': '153080620724_10157914483265725',\n",
    "  'status_link': 'https://www.facebook.com/DonaldTrump/videos/10157914483265725/',\n",
    "  'status_message': \"The State Department's quid pro quo scheme proves how CORRUPT our system is. Attempting to protect Crooked Hillary, NOT our American service members or national security information, is absolutely DISGRACEFUL. The American people deserve so much better. On November 8th, we will END this RIGGED system once and for all!\",\n",
    "  'status_published': '10/17/2016 18:00:41',\n",
    "  'status_type': 'video'}]\n",
    "```\n",
    "\n",
    "**DO NOT USE THE CSV MODULE FOR THIS EXERCISE!**"
   ]
  },
  {
   "cell_type": "code",
   "execution_count": null,
   "metadata": {
    "collapsed": true
   },
   "outputs": [],
   "source": [
    "def read_csv(input_file, delimiter=\",\"):\n",
    "    # your code here\n",
    "\n",
    "\n",
    "# test your function here\n",
    "filename = \"../Data/csv_data/trump_facebook.tsv\"\n",
    "status_updates = read_csv(filename, delimiter=\"\\t\") \n",
    "status_updates[0:2]"
   ]
  },
  {
   "cell_type": "markdown",
   "metadata": {},
   "source": [
    "In case you didn't manage to create the `read_csv()` function, run the following code using the `DictReader()` method from the `csv` module to get the data in the right format for the following exercises:"
   ]
  },
  {
   "cell_type": "code",
   "execution_count": null,
   "metadata": {
    "collapsed": true
   },
   "outputs": [],
   "source": [
    "import csv\n",
    "\n",
    "filename = \"../Data/csv_data/trump_facebook.tsv\"\n",
    "with open(filename, \"r\") as infile:\n",
    "    status_updates = []\n",
    "    csv_reader = csv.DictReader(infile, delimiter='\\t')\n",
    "    for row in csv_reader:\n",
    "        status_updates.append(row)\n",
    "status_updates[0:2]"
   ]
  },
  {
   "cell_type": "markdown",
   "metadata": {},
   "source": [
    "### 1b. Find the status updates with the most responses\n",
    "\n",
    "Define a function called **`get_update_most_responded_to()`** that takes two input arguments: **`status_updates`** (mandatory positional argument) and **`response_type`** (keyword argument with default string `\"likes\"`). The fuction should find the status update that received the highest number of possible reactions to a Facebook status (emoji such as 'angrys', 'comments', 'hahas', etc.). It should return three strings: the **`status_message`**, the **`status_type`** and the **`status_link`** of this particular status update.\n",
    "\n",
    "**Aside on emotjis**\n",
    "\n",
    "It is actually possible to use emoji in python as they are now accepted by utf-8 and unicode encoded. Unicode is a way to store and represent characters characters for computers as sequences of numbers. Utf-8 is a type of unicode encoding. \n",
    "\n",
    "You can either use emoji directly in python or type their unicode encoding (as shown below). You can look up the unicode encodings of emoji [here](https://unicode.org/emoji/charts/full-emoji-list.html)\n",
    "\n",
    "To use the unicode encodings in python replace “+” with “000”. For example – “U+1F600” will become “U0001F600” and prefix the unicode with “\\” and print it.\n",
    "\n",
    "\n",
    "**You could have 😠 or 👍 as an input string for your function 🙂**\n",
    "\n"
   ]
  },
  {
   "cell_type": "code",
   "execution_count": 46,
   "metadata": {},
   "outputs": [
    {
     "name": "stdout",
     "output_type": "stream",
     "text": [
      "👍 😠\n",
      "😠\n"
     ]
    }
   ],
   "source": [
    "## Emoji aside\n",
    "thumb = \"👍\"\n",
    "angry = \"😠\"\n",
    "print(thumb, angry)\n",
    "\n",
    "# Alternatively, you can specify the unicode encoding directly\n",
    "# (looked up online)\n",
    "angry_unicode = \"\\U0001f620\"\n",
    "print(angry_unicode)\n"
   ]
  },
  {
   "cell_type": "code",
   "execution_count": null,
   "metadata": {
    "collapsed": true
   },
   "outputs": [],
   "source": [
    "def get_update_most_responded_to():\n",
    "    # your code here\n",
    "\n",
    "# test your function here"
   ]
  },
  {
   "cell_type": "markdown",
   "metadata": {},
   "source": [
    "### 1c. Find the longest status updates\n",
    "\n",
    "Define a function called **`get_longest_update()`** that takes two input arguments: **`status_updates`** (mandatory positional argument) and **`length_type`** (keyword argument with default string `\"words\"`). By default, the fuction should find the status update that is the longest in terms of the  words. Also implement the options to find the longst status update in terms of characters or sentences in the message. These options should be carried out when the keyword argument is changed to `\"sentences\"` or `\"characters\"` \n",
    "\n",
    "The function should return the status message (called `''status_message'` in the json) of the longest update as a string. \n"
   ]
  },
  {
   "cell_type": "code",
   "execution_count": null,
   "metadata": {
    "collapsed": true
   },
   "outputs": [],
   "source": [
    "def get_longest_update():\n",
    "    # your code here\n",
    "\n",
    "# test your function here"
   ]
  },
  {
   "cell_type": "markdown",
   "metadata": {},
   "source": [
    "### 1d. Find the status updates containing specific keywords\n",
    "\n",
    "Define a function called **`get_updates_with_keywords()`** that takes three input arguments: \n",
    "\n",
    "* **`status_updates`** (mandatory positional argument) \n",
    "* **`keywords`** (mandatory positional argument) \n",
    "* **`case_sensitive`** (keyword argument with default `False`)\n",
    "\n",
    "The fuction should find the status updates that contain **any of the keywords**. The parameter `case_sensitive` should specify whether uppercase and lowercase characters must be treated as distinct. \n",
    "\n",
    "The function should return **`filtered_status_updates`**, which is a list of dictioaries with all information about the status updates (same format as the input argument `'status_updates'`). \n",
    "\n",
    "Make sure that you **tokenize** the messages."
   ]
  },
  {
   "cell_type": "code",
   "execution_count": null,
   "metadata": {
    "collapsed": true
   },
   "outputs": [],
   "source": [
    "def get_update_with_keywords():\n",
    "    # your code here\n",
    "\n",
    "keywords = [\"clinton\", \"obama\"] # test with these keywords; also experiment with other keywords\n",
    "# test your function here"
   ]
  },
  {
   "cell_type": "markdown",
   "metadata": {},
   "source": [
    "## Exercise 2: Nobel Prize Winners (JSON)"
   ]
  },
  {
   "cell_type": "markdown",
   "metadata": {},
   "source": [
    "There is a lot of interesting data online. For example, the [Nobel Prize Organisaton](https://www.nobelprize.org) provides the [Nobel Prize API](https://nobelprize.readme.io) that allows you to download information about the prizes, the laureates and the countries. \n",
    "\n",
    "The information is formatted in JSON. Have a look at the following URLs:\n",
    "- http://api.nobelprize.org/v1/prize.json\n",
    "- http://api.nobelprize.org/v1/laureate.json\n",
    "- http://api.nobelprize.org/v1/country.json\n",
    "\n",
    "For this exercise, we will only look at the prizes and the laureates. \n",
    "\n",
    "We can download the data using the `requests` module. How this works is shown below."
   ]
  },
  {
   "cell_type": "code",
   "execution_count": null,
   "metadata": {
    "collapsed": true
   },
   "outputs": [],
   "source": [
    "import requests"
   ]
  },
  {
   "cell_type": "code",
   "execution_count": null,
   "metadata": {
    "collapsed": true
   },
   "outputs": [],
   "source": [
    "# Download data on prizes\n",
    "api_url = \"http://api.nobelprize.org/v1/prize.json\"\n",
    "r = requests.get(api_url)\n",
    "dict_prizes = r.json()\n",
    "# uncomment the line below if you'd like to see what's inside dict_prizes\n",
    "#dict_prizes "
   ]
  },
  {
   "cell_type": "code",
   "execution_count": null,
   "metadata": {
    "collapsed": true
   },
   "outputs": [],
   "source": [
    "# Download data on laureates\n",
    "api_url = \"http://api.nobelprize.org/v1/laureate.json\"\n",
    "r = requests.get(api_url)\n",
    "dict_laureates = r.json()\n",
    "# uncomment the line below if you'd like to see what's inside dict_prizes\n",
    "#dict_laureates "
   ]
  },
  {
   "cell_type": "markdown",
   "metadata": {},
   "source": [
    "### 2a. Read the JSON files\n",
    "\n",
    "We have already stored the data as the JSON files `laureate.json` and `prize.json` in the folder `../Data/json_data/NobelPrize`. Open these JSON files and load them as the Python dictionaries `dict_laureates` and `dict_prizes`."
   ]
  },
  {
   "cell_type": "code",
   "execution_count": null,
   "metadata": {
    "collapsed": true
   },
   "outputs": [],
   "source": [
    "# load laureates.json and prize.json here"
   ]
  },
  {
   "cell_type": "markdown",
   "metadata": {},
   "source": [
    "### 2b. Get all laureates from year and category\n",
    "\n",
    "Create a function called **`get_laureates()`** that takes three input arguments: \n",
    "\n",
    "* **`dict_prizes`** (mandatory positional arugment) \n",
    "* **`year`** (keyword argument with default `None`) \n",
    "* **`category`** (keyword argument with default `None`) \n",
    "\n",
    "The function should find all laureates that received the Nobel Prize, optionally in a specific year and/or category (specified by the keyword arguments). It should return a list of the full names of the laureates.\n",
    "\n",
    "For example, for the year 2018 and category \"peace\" it should return the list `['Denis Mukwege', 'Nadia Murad']`."
   ]
  },
  {
   "cell_type": "code",
   "execution_count": null,
   "metadata": {
    "collapsed": true
   },
   "outputs": [],
   "source": [
    "def get_laureates():\n",
    "    # your code here                     \n",
    "\n",
    "\n",
    "year = 2018\n",
    "category = \"peace\"\n",
    "# test your function here"
   ]
  },
  {
   "cell_type": "markdown",
   "metadata": {},
   "source": [
    "### 2c. Get all prizes from affiliations\n",
    "\n",
    "Create a function called **`get_affiliation_prizes()`** that takes one input argument: \n",
    "\n",
    "* **`dict_laureates`** (mandatory positional argument) \n",
    "\n",
    "The function should find all affiliates that were involved in winning the Nobel Prize and provide information on the category and year of those Nobel Prizes. It should return a nested dictionary of the following format:\n",
    "\n",
    "```\n",
    "{\n",
    "    \"A.F. Ioffe Physico-Technical Institute\": [\n",
    "        {\"category\": \"physics\", \"year\": \"2000\"}\n",
    "    ],\n",
    "    \"Aarhus University\": [\n",
    "        {\"category\": \"chemistry\", \"year\": \"1997\"},\n",
    "        {\"category\": \"economics\",\"year\": \"2010\"}\n",
    "    ]\n",
    "}\n",
    "```\n",
    "\n",
    "**Tip:** some of the entries will lack information (for example, there is no associated affiliation). Use `if-statements` to check if essential information is present. \n",
    "\n",
    "**General tip for working with data**: If your code breaks, please do not panic but check whether your assumptions about the data hold (very often, they do not ;-) ). "
   ]
  },
  {
   "cell_type": "code",
   "execution_count": null,
   "metadata": {
    "collapsed": true
   },
   "outputs": [],
   "source": [
    "def get_affiliation_prizes():\n",
    "    # your code here\n",
    "\n",
    "# test your function here"
   ]
  },
  {
   "cell_type": "markdown",
   "metadata": {},
   "source": [
    "### 2d. Write to JSON\n",
    "\n",
    "Next, write the dictionary created in the previous exercise to a JSON file using the following path: \n",
    "\n",
    "`../Data/json_data/NobelPrize/nobel_prizes_affiliations.json`."
   ]
  },
  {
   "cell_type": "code",
   "execution_count": null,
   "metadata": {
    "collapsed": true
   },
   "outputs": [],
   "source": [
    "# write the resulting dictionary to 'json_file'"
   ]
  }
 ],
 "metadata": {
  "kernelspec": {
   "display_name": "Python 3",
   "language": "python",
   "name": "python3"
  },
  "language_info": {
   "codemirror_mode": {
    "name": "ipython",
    "version": 3
   },
   "file_extension": ".py",
   "mimetype": "text/x-python",
   "name": "python",
   "nbconvert_exporter": "python",
   "pygments_lexer": "ipython3",
   "version": "3.7.3"
  }
 },
 "nbformat": 4,
 "nbformat_minor": 2
}
